{
 "cells": [
  {
   "cell_type": "markdown",
   "metadata": {},
   "source": [
    "# DeepFake Detection using CNN + Squeeze-and-Excitation Networks"
   ]
  },
  {
   "cell_type": "markdown",
   "metadata": {},
   "source": [
    "## Project Overview\n",
    "\n",
    "This project aims to build a machine learning model capable of detecting deepfake images using Convolutional Neural Networks (CNNs). The core idea behind this approach is to leverage the pre-trained **EfficientNet-B0** model, a state-of-the-art CNN architecture, to extract features from images. To enhance the model’s performance, we introduce a **Squeeze-and-Excitation (SE) block**, which dynamically recalibrates the channel-wise feature responses by learning the importance of each feature.\n",
    "\n",
    "### **Key Steps:**\n",
    "1. **Data Preprocessing:**\n",
    "   - The images are resized to 256x256 pixels and converted to tensor format for processing.\n",
    "   - The dataset is split into three sets: **Training**, **Validation**, and **Testing**. \n",
    "\n",
    "2. **Model Architecture:**\n",
    "   - **EfficientNet-B0** is used as the backbone for feature extraction, which is pre-trained on ImageNet and fine-tuned for deepfake detection.\n",
    "   - The **Squeeze-and-Excitation block** (SE Block) is added to the network to recalibrate the feature maps by learning the importance of each channel.\n",
    "   - A **Fully Connected (FC) layer** is used at the end of the model to classify images into two categories: **Real** or **Fake**.\n",
    "\n",
    "3. **Training:**\n",
    "   - The model is trained using the **CrossEntropy Loss**, and **Adam optimizer** is used for weight updates.\n",
    "   - During training, **checkpointing** is implemented to save the model at regular intervals and at the point of best validation performance.\n",
    "\n",
    "4. **Evaluation Metrics:**\n",
    "   - The model's performance is evaluated on the test set using various metrics:\n",
    "     - **Classification Report**: Precision, Recall, F1-Score for both classes.\n",
    "     - **Confusion Matrix**: To visualize the model's predictions.\n",
    "     - **ROC-AUC Score**: To evaluate the model's ability to distinguish between Real and Fake images.\n",
    "     - **IoU (Jaccard) Score**: To compute the overlap between the predicted and true labels.\n",
    "\n",
    "### **Key Features:**\n",
    "- **EfficientNet**: An advanced architecture providing efficient performance with fewer parameters.\n",
    "- **Squeeze-and-Excitation (SE) Block**: A lightweight attention mechanism that recalibrates the feature maps for better model focus.\n",
    "- **GPU Support**: The code automatically selects **CUDA-enabled GPUs** if available, ensuring faster training times.\n",
    "- **Checkpointing**: The model saves checkpoints during training and stores the best performing model, preventing data loss during long training runs."
   ]
  },
  {
   "cell_type": "markdown",
   "metadata": {},
   "source": [
    "### Step 1: **Import Required Libraries**\n",
    "\n",
    "Libraries like `torch`, `torchvision`, and `sklearn` are essential for creating the deep learning model, performing transformations on images, and computing evaluation metrics like classification reports, confusion matrices, and ROC AUC scores. We also import `matplotlib` and `seaborn` for visualizing results such as loss curves and confusion matrices. The `warnings` library is used to suppress unnecessary warnings during training."
   ]
  },
  {
   "cell_type": "code",
   "execution_count": 1,
   "metadata": {
    "_cell_guid": "b1076dfc-b9ad-4769-8c92-a6c4dae69d19",
    "_uuid": "8f2839f25d086af736a60e9eeb907d3b93b6e0e5",
    "execution": {
     "iopub.execute_input": "2025-04-18T08:23:53.869923Z",
     "iopub.status.busy": "2025-04-18T08:23:53.869700Z",
     "iopub.status.idle": "2025-04-18T08:24:02.997689Z",
     "shell.execute_reply": "2025-04-18T08:24:02.996854Z",
     "shell.execute_reply.started": "2025-04-18T08:23:53.869907Z"
    },
    "trusted": true
   },
   "outputs": [],
   "source": [
    "# Importing necessary libraries\n",
    "import torch\n",
    "import torch.nn as nn\n",
    "import torch.nn.functional as F\n",
    "import torchvision.models as models\n",
    "import torchvision.transforms as transforms\n",
    "from torchvision import datasets\n",
    "from torch.utils.data import DataLoader, ConcatDataset\n",
    "import cv2\n",
    "import numpy as np\n",
    "from sklearn.metrics import classification_report, confusion_matrix, roc_auc_score, jaccard_score\n",
    "import matplotlib.pyplot as plt\n",
    "import seaborn as sns\n",
    "import os\n",
    "import warnings\n",
    "warnings.filterwarnings('ignore')"
   ]
  },
  {
   "cell_type": "markdown",
   "metadata": {},
   "source": [
    "### Step 2: **Select Device (GPU or CPU)**\n",
    "\n",
    "To ensure efficient model training, this step checks whether a GPU is available for computation. If a GPU is available, it is used to speed up the training process. Otherwise, the model will fall back on the CPU. The device selection is printed to the console, so the user can confirm which device is being used for the training."
   ]
  },
  {
   "cell_type": "code",
   "execution_count": 2,
   "metadata": {
    "execution": {
     "iopub.execute_input": "2025-04-18T08:24:02.999452Z",
     "iopub.status.busy": "2025-04-18T08:24:02.998974Z",
     "iopub.status.idle": "2025-04-18T08:24:03.094537Z",
     "shell.execute_reply": "2025-04-18T08:24:03.093609Z",
     "shell.execute_reply.started": "2025-04-18T08:24:02.999425Z"
    },
    "trusted": true
   },
   "outputs": [
    {
     "name": "stdout",
     "output_type": "stream",
     "text": [
      "Using device: cuda\n"
     ]
    }
   ],
   "source": [
    "# Select GPU if available\n",
    "device = torch.device(\"cuda\" if torch.cuda.is_available() else \"cpu\")\n",
    "print(f\"Using device: {device}\")"
   ]
  },
  {
   "cell_type": "markdown",
   "metadata": {},
   "source": [
    "### Step 3: **Define the Squeeze-and-Excitation (SE) Block**\n",
    "\n",
    "The Squeeze-and-Excitation block (SEBlock) is a lightweight attention mechanism designed to improve the performance of the model. It works by recalibrating feature maps using global information from the feature maps themselves. The `SEBlock` takes the output of convolution layers and applies a global average pooling operation to summarize the feature map's global context. The output is passed through two fully connected (FC) layers to enhance the channel-wise feature representations, followed by a sigmoid activation function to scale the input feature map accordingly."
   ]
  },
  {
   "cell_type": "code",
   "execution_count": 3,
   "metadata": {
    "execution": {
     "iopub.execute_input": "2025-04-18T08:24:03.095777Z",
     "iopub.status.busy": "2025-04-18T08:24:03.095444Z",
     "iopub.status.idle": "2025-04-18T08:24:03.116734Z",
     "shell.execute_reply": "2025-04-18T08:24:03.116064Z",
     "shell.execute_reply.started": "2025-04-18T08:24:03.095747Z"
    },
    "trusted": true
   },
   "outputs": [],
   "source": [
    "# Squeeze-and-Excitation block\n",
    "class SEBlock(nn.Module):\n",
    "    def __init__(self, in_channels, reduction=16):\n",
    "        super(SEBlock, self).__init__()\n",
    "        # Fully connected layers for squeeze and excitation\n",
    "        self.fc1 = nn.Linear(in_channels, in_channels // reduction)  # Squeeze phase\n",
    "        self.fc2 = nn.Linear(in_channels // reduction, in_channels)  # Excitation phase\n",
    "    \n",
    "    def forward(self, x):\n",
    "        se = F.adaptive_avg_pool2d(x, 1).view(x.size(0), -1)  # Global average pooling\n",
    "        se = F.relu(self.fc1(se))  # Squeeze phase\n",
    "        se = torch.sigmoid(self.fc2(se)).view(x.size(0), x.size(1), 1, 1)  # Excitation phase\n",
    "        return x * se  # Return recalibrated features"
   ]
  },
  {
   "cell_type": "markdown",
   "metadata": {},
   "source": [
    "### Step 4: **Define the DeepFake Detection Model**\n",
    "\n",
    "In this step, we define the `DeepFakeModel` class, which is the main deep learning model for detecting fake images. We use EfficientNet as the backbone for feature extraction due to its efficiency and accuracy. The last few layers of EfficientNet are fine-tuned, allowing the model to learn from the specific dataset. We then pass the features through the `SEBlock` to enhance important features. The model also includes global average pooling and a final classifier that outputs the probability of an image being \"Real\" or \"Fake.\""
   ]
  },
  {
   "cell_type": "code",
   "execution_count": 4,
   "metadata": {
    "execution": {
     "iopub.execute_input": "2025-04-18T08:24:03.118467Z",
     "iopub.status.busy": "2025-04-18T08:24:03.118235Z",
     "iopub.status.idle": "2025-04-18T08:24:03.132324Z",
     "shell.execute_reply": "2025-04-18T08:24:03.131618Z",
     "shell.execute_reply.started": "2025-04-18T08:24:03.118450Z"
    },
    "trusted": true
   },
   "outputs": [],
   "source": [
    "# DeepFake Model\n",
    "class DeepFakeModel(nn.Module):\n",
    "    def __init__(self):\n",
    "        super(DeepFakeModel, self).__init__()\n",
    "        # EfficientNet-B0 backbone pre-trained on ImageNet for feature extraction\n",
    "        backbone = models.efficientnet_b0(pretrained=True)\n",
    "        \n",
    "        # Fine-tuning the last few layers\n",
    "        for param in backbone.features[-5:].parameters():\n",
    "            param.requires_grad = True  # Fine-tune the last few layers\n",
    "\n",
    "        self.feature_extractor = backbone.features  # Extract features from EfficientNet\n",
    "        self.se_block = SEBlock(1280)  # Apply SE block to recalibrate features\n",
    "        self.pool = nn.AdaptiveAvgPool2d(1)  # Global average pooling layer\n",
    "        self.classifier = nn.Linear(1280, 2)  # Classifier to distinguish Real vs Fake\n",
    "\n",
    "    def forward(self, x):\n",
    "        x = self.feature_extractor(x)  # Extract features from the input image\n",
    "        x = self.se_block(x)  # Apply SE block to recalibrate the features\n",
    "        x = self.pool(x).view(x.size(0), -1)  # Flatten the pooled features\n",
    "        x = self.classifier(x)  # Pass through classifier to get final prediction\n",
    "        return x"
   ]
  },
  {
   "cell_type": "markdown",
   "metadata": {},
   "source": [
    "### Step 5: **Define Training Function with Checkpointing**\n",
    "\n",
    "The `train` function is responsible for training the model. It iterates through the dataset for a specified number of epochs and computes the loss at each step. To prevent losing progress if the training is interrupted, checkpointing is implemented. This function saves the model's weights and optimizer states periodically. If a checkpoint exists, the training resumes from the last saved state. The function also tracks the training and validation losses and saves the best model based on validation performance."
   ]
  },
  {
   "cell_type": "code",
   "execution_count": 5,
   "metadata": {
    "execution": {
     "iopub.execute_input": "2025-04-18T08:24:03.133474Z",
     "iopub.status.busy": "2025-04-18T08:24:03.133136Z",
     "iopub.status.idle": "2025-04-18T08:24:03.147912Z",
     "shell.execute_reply": "2025-04-18T08:24:03.147127Z",
     "shell.execute_reply.started": "2025-04-18T08:24:03.133455Z"
    },
    "trusted": true
   },
   "outputs": [],
   "source": [
    "# Training loop\n",
    "def train(model, train_loader, val_loader, criterion, optimizer, epochs, device, checkpoint_path):\n",
    "    model.train()  # Set model to training mode\n",
    "    train_losses, val_losses = [], []  # Track training and validation losses\n",
    "    best_val_loss = float('inf')  # Keep track of best validation loss for model saving\n",
    "\n",
    "    # Load checkpoint if exists\n",
    "    if os.path.exists(checkpoint_path + \"/checkpoint.pth\"):\n",
    "        checkpoint = torch.load(os.path.join(checkpoint_path, \"checkpoint.pth\"))\n",
    "        model.load_state_dict(checkpoint['model_state_dict'])  # Load model state\n",
    "        optimizer.load_state_dict(checkpoint['optimizer_state_dict'])  # Load optimizer state\n",
    "        start_epoch = checkpoint['epoch'] + 1  # Start from the next epoch\n",
    "        print(f\"Resuming from epoch {start_epoch}\")\n",
    "    else:\n",
    "        start_epoch = 0  # Start fresh if no checkpoint is found\n",
    "        print(\"Starting training...\")\n",
    "\n",
    "    # Main training loop\n",
    "    for epoch in range(start_epoch, epochs):\n",
    "        model.train()  # Set model to training mode\n",
    "        running_loss = 0.0  # Track loss during training\n",
    "        for images, labels in train_loader:\n",
    "            images, labels = images.to(device), labels.to(device)  # Move data to the device\n",
    "            optimizer.zero_grad()  # Zero the gradients before backward pass\n",
    "            outputs = model(images)  # Perform forward pass\n",
    "            loss = criterion(outputs, labels)  # Calculate loss\n",
    "            loss.backward()  # Backpropagate gradients\n",
    "            optimizer.step()  # Update weights\n",
    "            running_loss += loss.item()  # Accumulate loss for the epoch\n",
    "        avg_train_loss = running_loss / len(train_loader)  # Average training loss\n",
    "        avg_val_loss = validate(model, val_loader, criterion)  # Calculate validation loss\n",
    "        train_losses.append(avg_train_loss)  # Store training loss\n",
    "        val_losses.append(avg_val_loss)  # Store validation loss\n",
    "        print(f\"Epoch {epoch+1}/{epochs}, Train Loss: {avg_train_loss:.4f}, Val Loss: {avg_val_loss:.4f}\")\n",
    "        \n",
    "        # Save best model if validation loss improves\n",
    "        if avg_val_loss < best_val_loss:\n",
    "            best_val_loss = avg_val_loss\n",
    "            torch.save(model.state_dict(), os.path.join(checkpoint_path, \"best_model.pth\"))\n",
    "            print(\"Saved best model!\")\n",
    "\n",
    "        # Save checkpoint at every epoch\n",
    "        torch.save({\n",
    "            'epoch': epoch,\n",
    "            'model_state_dict': model.state_dict(),\n",
    "            'optimizer_state_dict': optimizer.state_dict(),\n",
    "            'loss': avg_train_loss,\n",
    "        }, os.path.join(checkpoint_path, \"checkpoint.pth\"))\n",
    "\n",
    "    print(\"Training completed!\")\n",
    "    # Plot and save loss curves\n",
    "    plt.figure(figsize=(10, 6))\n",
    "    plt.plot(train_losses, label='Training Loss')\n",
    "    plt.plot(val_losses, label='Validation Loss')\n",
    "    plt.xlabel(\"Epoch\")\n",
    "    plt.ylabel(\"Loss\")\n",
    "    plt.title(\"Training vs Validation Loss\")\n",
    "    plt.legend()\n",
    "    plt.grid(True)\n",
    "    plt.savefig(os.path.join(checkpoint_path, \"loss_plot.png\"))\n",
    "    plt.show()"
   ]
  },
  {
   "cell_type": "markdown",
   "metadata": {},
   "source": [
    "### Step 6: **Define Validation Function**\n",
    "\n",
    "The validation function is used to evaluate the model on the validation set after each epoch. It runs the model in evaluation mode (i.e., no weight updates) and calculates the loss using the same loss function as in training. This helps track how well the model is generalizing to unseen data during the training process."
   ]
  },
  {
   "cell_type": "code",
   "execution_count": 6,
   "metadata": {
    "execution": {
     "iopub.execute_input": "2025-04-18T08:24:03.148923Z",
     "iopub.status.busy": "2025-04-18T08:24:03.148685Z",
     "iopub.status.idle": "2025-04-18T08:24:03.167549Z",
     "shell.execute_reply": "2025-04-18T08:24:03.166909Z",
     "shell.execute_reply.started": "2025-04-18T08:24:03.148900Z"
    },
    "trusted": true
   },
   "outputs": [],
   "source": [
    "# Validation loop\n",
    "def validate(model, val_loader, criterion):\n",
    "    model.eval()  # Set model to evaluation mode\n",
    "    val_loss = 0.0  # Initialize validation loss\n",
    "    with torch.no_grad():  # Disable gradient computation during validation\n",
    "        for images, labels in val_loader:\n",
    "            images, labels = images.to(device), labels.to(device)  # Move data to device\n",
    "            outputs = model(images)  # Forward pass\n",
    "            loss = criterion(outputs, labels)  # Calculate loss\n",
    "            val_loss += loss.item()  # Accumulate validation loss\n",
    "    return val_loss / len(val_loader)  # Return average validation loss"
   ]
  },
  {
   "cell_type": "markdown",
   "metadata": {},
   "source": [
    "### Step 7: **Test and Evaluate the Model**\n",
    "\n",
    "The `test` function evaluates the final model on the test set. It computes the predictions for the test images and compares them to the true labels. A classification report is generated to show the precision, recall, and F1-score for both classes (Real and Fake). Additionally, a confusion matrix is plotted to visualize how well the model distinguishes between the two classes."
   ]
  },
  {
   "cell_type": "code",
   "execution_count": 7,
   "metadata": {
    "execution": {
     "iopub.execute_input": "2025-04-18T08:24:03.168765Z",
     "iopub.status.busy": "2025-04-18T08:24:03.168353Z",
     "iopub.status.idle": "2025-04-18T08:24:03.183694Z",
     "shell.execute_reply": "2025-04-18T08:24:03.183009Z",
     "shell.execute_reply.started": "2025-04-18T08:24:03.168747Z"
    },
    "trusted": true
   },
   "outputs": [],
   "source": [
    "# Test and evaluation\n",
    "def test(model, dataloader):\n",
    "    model.eval()  # Set model to evaluation mode\n",
    "    all_preds = []  # List to store predictions\n",
    "    all_labels = []  # List to store true labels\n",
    "    with torch.no_grad():  # No gradient calculation during testing\n",
    "        for images, labels in dataloader:\n",
    "            images, labels = images.to(device), labels.to(device)  # Move data to device\n",
    "            outputs = model(images)  # Get predictions\n",
    "            _, predicted = torch.max(outputs.data, 1)  # Get predicted class\n",
    "            all_preds.extend(predicted.cpu().numpy())  # Store predictions\n",
    "            all_labels.extend(labels.cpu().numpy())  # Store true labels\n",
    "\n",
    "    # Print classification report\n",
    "    print(\"\\nClassification Report:\")\n",
    "    print(classification_report(all_labels, all_preds, target_names=[\"Real\", \"Fake\"]))\n",
    "    \n",
    "    # Plot confusion matrix\n",
    "    cm = confusion_matrix(all_labels, all_preds)\n",
    "    plt.figure(figsize=(6,5))\n",
    "    sns.heatmap(cm, annot=True, fmt=\"d\", cmap=\"Blues\", xticklabels=[\"Real\", \"Fake\"], yticklabels=[\"Real\", \"Fake\"])\n",
    "    plt.xlabel(\"Predicted Label\")\n",
    "    plt.ylabel(\"True Label\")\n",
    "    plt.title(\"Confusion Matrix\")\n",
    "    plt.savefig(os.path.join(checkpoint_path, \"confusion_matrix.png\"))\n",
    "    plt.show()"
   ]
  },
  {
   "cell_type": "markdown",
   "metadata": {},
   "source": [
    "### Step 8: **Compute ROC AUC Score**\n",
    "\n",
    "The Receiver Operating Characteristic (ROC) curve and the Area Under the Curve (AUC) score are commonly used metrics for evaluating the performance of binary classification models. In this step, we compute the AUC score, which measures the model's ability to distinguish between the \"Real\" and \"Fake\" classes. A higher AUC indicates better performance, where a score of 1.0 represents perfect classification."
   ]
  },
  {
   "cell_type": "code",
   "execution_count": 8,
   "metadata": {
    "execution": {
     "iopub.execute_input": "2025-04-18T08:24:03.184691Z",
     "iopub.status.busy": "2025-04-18T08:24:03.184438Z",
     "iopub.status.idle": "2025-04-18T08:24:03.197897Z",
     "shell.execute_reply": "2025-04-18T08:24:03.197299Z",
     "shell.execute_reply.started": "2025-04-18T08:24:03.184671Z"
    },
    "trusted": true
   },
   "outputs": [],
   "source": [
    "# Compute ROC AUC Score\n",
    "def compute_roc_auc(model, dataloader):\n",
    "    model.eval()  # Set model to evaluation mode\n",
    "    all_labels = []  # True labels\n",
    "    all_probs = []  # Predicted probabilities\n",
    "    with torch.no_grad():  # No gradient calculation during evaluation\n",
    "        for images, labels in dataloader:\n",
    "            images = images.to(device)  # Move data to device\n",
    "            outputs = model(images)  # Get model outputs\n",
    "            probs = F.softmax(outputs, dim=1)[:, 1]  # Get probability for the \"Fake\" class\n",
    "            all_probs.extend(probs.cpu().numpy())  # Store predicted probabilities\n",
    "            all_labels.extend(labels.numpy())  # Store true labels\n",
    "    auc = roc_auc_score(all_labels, all_probs)  # Compute ROC AUC score\n",
    "    print(f\"ROC AUC Score: {auc:.4f}\")"
   ]
  },
  {
   "cell_type": "markdown",
   "metadata": {},
   "source": [
    "### Step 9: **Compute Intersection over Union (IoU)**\n",
    "\n",
    "Intersection over Union (IoU), also known as the Jaccard Index, is another evaluation metric for binary classification problems. This metric measures the overlap between the predicted and actual classes. A higher IoU indicates that the model's predictions align more closely with the true labels."
   ]
  },
  {
   "cell_type": "code",
   "execution_count": 9,
   "metadata": {
    "execution": {
     "iopub.execute_input": "2025-04-18T08:24:03.198968Z",
     "iopub.status.busy": "2025-04-18T08:24:03.198734Z",
     "iopub.status.idle": "2025-04-18T08:24:03.216892Z",
     "shell.execute_reply": "2025-04-18T08:24:03.216250Z",
     "shell.execute_reply.started": "2025-04-18T08:24:03.198942Z"
    },
    "trusted": true
   },
   "outputs": [],
   "source": [
    "# Compute IoU (Jaccard) Score\n",
    "def compute_iou(model, dataloader):\n",
    "    model.eval()  # Set model to evaluation mode\n",
    "    all_preds = []  # Store predictions\n",
    "    all_labels = []  # Store true labels\n",
    "    with torch.no_grad():  # Disable gradient computation during evaluation\n",
    "        for images, labels in dataloader:\n",
    "            images = images.to(device)  # Move data to device\n",
    "            outputs = model(images)  # Get predictions\n",
    "            _, preds = torch.max(outputs, 1)  # Get predicted classes\n",
    "            all_preds.extend(preds.cpu().numpy())  # Store predictions\n",
    "            all_labels.extend(labels.numpy())  # Store true labels\n",
    "    iou = jaccard_score(all_labels, all_preds, average='binary')  # Compute IoU score\n",
    "    print(f\"IoU (Jaccard) Score: {iou:.4f}\")"
   ]
  },
  {
   "cell_type": "markdown",
   "metadata": {},
   "source": [
    "### Step 10: **Define Image Transformations**\n",
    "\n",
    "In this step, we define the image transformations that will be applied to the dataset. The images are resized to a fixed size of 256x256 pixels and then converted to tensor format. This transformation ensures that the input images are in a format that the model can process efficiently."
   ]
  },
  {
   "cell_type": "code",
   "execution_count": 10,
   "metadata": {
    "execution": {
     "iopub.execute_input": "2025-04-18T08:24:03.219388Z",
     "iopub.status.busy": "2025-04-18T08:24:03.219195Z",
     "iopub.status.idle": "2025-04-18T08:24:03.233601Z",
     "shell.execute_reply": "2025-04-18T08:24:03.232992Z",
     "shell.execute_reply.started": "2025-04-18T08:24:03.219374Z"
    },
    "trusted": true
   },
   "outputs": [],
   "source": [
    "# Image transformation\n",
    "transform = transforms.Compose([\n",
    "    transforms.Resize((256, 256)),\n",
    "    transforms.ToTensor()\n",
    "])"
   ]
  },
  {
   "cell_type": "markdown",
   "metadata": {},
   "source": [
    "### Step 11: **Load Dataset and Create DataLoaders**\n",
    "\n",
    "The dataset for training, validation, and testing is loaded from directories containing images. The `ImageFolder` class from `torchvision.datasets` is used to automatically assign labels based on the folder names. After the datasets are loaded, DataLoader objects are created to handle batching, shuffling, and parallel data loading during training and evaluation."
   ]
  },
  {
   "cell_type": "code",
   "execution_count": 11,
   "metadata": {
    "execution": {
     "iopub.execute_input": "2025-04-18T08:24:03.234755Z",
     "iopub.status.busy": "2025-04-18T08:24:03.234478Z",
     "iopub.status.idle": "2025-04-18T08:24:03.248056Z",
     "shell.execute_reply": "2025-04-18T08:24:03.247386Z",
     "shell.execute_reply.started": "2025-04-18T08:24:03.234734Z"
    },
    "trusted": true
   },
   "outputs": [],
   "source": [
    "# Checkpoint path\n",
    "checkpoint_path = \"/kaggle/working/\""
   ]
  },
  {
   "cell_type": "code",
   "execution_count": 12,
   "metadata": {
    "execution": {
     "iopub.execute_input": "2025-04-18T08:24:03.249206Z",
     "iopub.status.busy": "2025-04-18T08:24:03.248909Z",
     "iopub.status.idle": "2025-04-18T08:27:24.197276Z",
     "shell.execute_reply": "2025-04-18T08:27:24.196657Z",
     "shell.execute_reply.started": "2025-04-18T08:24:03.249185Z"
    },
    "trusted": true
   },
   "outputs": [],
   "source": [
    "# Dataset\n",
    "train_dataset = datasets.ImageFolder(\"/kaggle/input/deepfake-and-real-images/Dataset/Train\", transform=transform)\n",
    "val_dataset = datasets.ImageFolder(\"/kaggle/input/deepfake-and-real-images/Dataset/Test\", transform=transform)\n",
    "test_dataset = datasets.ImageFolder(\"/kaggle/input/deepfake-and-real-images/Dataset/Validation\", transform=transform)"
   ]
  },
  {
   "cell_type": "code",
   "execution_count": 13,
   "metadata": {
    "execution": {
     "iopub.execute_input": "2025-04-18T08:27:24.198169Z",
     "iopub.status.busy": "2025-04-18T08:27:24.197957Z",
     "iopub.status.idle": "2025-04-18T08:27:24.202321Z",
     "shell.execute_reply": "2025-04-18T08:27:24.201700Z",
     "shell.execute_reply.started": "2025-04-18T08:27:24.198154Z"
    },
    "trusted": true
   },
   "outputs": [],
   "source": [
    "# DataLoader\n",
    "train_loader = DataLoader(train_dataset, batch_size=32, shuffle=True)\n",
    "val_loader = DataLoader(val_dataset, batch_size=32, shuffle=True)\n",
    "test_loader = DataLoader(test_dataset, batch_size=32, shuffle=False)"
   ]
  },
  {
   "cell_type": "markdown",
   "metadata": {},
   "source": [
    "### Step 12: **Initialize Model, Loss Function, Optimizer**\n",
    "\n",
    "Here, we initialize the deep learning model (`DeepFakeModel`), the loss function (`CrossEntropyLoss`), and the optimizer (`Adam`). The model is transferred to the selected device (GPU or CPU). The loss function computes the error between the predicted and actual labels, while the optimizer updates the model weights based on the computed gradients."
   ]
  },
  {
   "cell_type": "code",
   "execution_count": 14,
   "metadata": {
    "execution": {
     "iopub.execute_input": "2025-04-18T08:27:24.203381Z",
     "iopub.status.busy": "2025-04-18T08:27:24.203058Z",
     "iopub.status.idle": "2025-04-18T08:27:24.942667Z",
     "shell.execute_reply": "2025-04-18T08:27:24.941805Z",
     "shell.execute_reply.started": "2025-04-18T08:27:24.203364Z"
    },
    "trusted": true
   },
   "outputs": [
    {
     "name": "stderr",
     "output_type": "stream",
     "text": [
      "Downloading: \"https://download.pytorch.org/models/efficientnet_b0_rwightman-7f5810bc.pth\" to /root/.cache/torch/hub/checkpoints/efficientnet_b0_rwightman-7f5810bc.pth\n",
      "100%|██████████| 20.5M/20.5M [00:00<00:00, 86.8MB/s]\n"
     ]
    }
   ],
   "source": [
    "# Model, Loss, Optimizer\n",
    "model = DeepFakeModel().to(device)\n",
    "criterion = nn.CrossEntropyLoss()  # Cross-entropy loss for classification\n",
    "optimizer = torch.optim.Adam(model.parameters(), lr=0.001)  # Adam optimizer with learning rate 0.001"
   ]
  },
  {
   "cell_type": "markdown",
   "metadata": {},
   "source": [
    "### Step 13: **Train the Model**\n",
    "\n",
    "The training process begins with the `train` function. This function will train the model for a specified number of epochs (20 in this case). During each epoch, the model will learn from the training data and adjust its weights accordingly. The training loss and validation loss are printed after every epoch to monitor the model’s progress."
   ]
  },
  {
   "cell_type": "code",
   "execution_count": 15,
   "metadata": {
    "execution": {
     "iopub.execute_input": "2025-04-18T08:27:24.943678Z",
     "iopub.status.busy": "2025-04-18T08:27:24.943439Z",
     "iopub.status.idle": "2025-04-18T15:29:42.407434Z",
     "shell.execute_reply": "2025-04-18T15:29:42.406527Z",
     "shell.execute_reply.started": "2025-04-18T08:27:24.943653Z"
    },
    "trusted": true
   },
   "outputs": [
    {
     "name": "stdout",
     "output_type": "stream",
     "text": [
      "Starting training...\n",
      "Epoch 1/20, Train Loss: 0.0718, Val Loss: 0.2397\n",
      "Saved best model!\n",
      "Epoch 2/20, Train Loss: 0.0481, Val Loss: 0.2383\n",
      "Saved best model!\n",
      "Epoch 3/20, Train Loss: 0.0387, Val Loss: 0.2639\n",
      "Epoch 4/20, Train Loss: 0.0338, Val Loss: 0.4848\n",
      "Epoch 5/20, Train Loss: 0.0299, Val Loss: 0.2060\n",
      "Saved best model!\n",
      "Epoch 6/20, Train Loss: 0.0270, Val Loss: 0.2707\n",
      "Epoch 7/20, Train Loss: 0.0249, Val Loss: 0.7558\n",
      "Epoch 8/20, Train Loss: 0.0230, Val Loss: 0.1926\n",
      "Saved best model!\n",
      "Epoch 9/20, Train Loss: 0.0207, Val Loss: 0.2011\n",
      "Epoch 10/20, Train Loss: 0.0188, Val Loss: 0.2614\n",
      "Epoch 11/20, Train Loss: 0.0171, Val Loss: 0.4654\n",
      "Epoch 12/20, Train Loss: 0.0153, Val Loss: 0.4501\n",
      "Epoch 13/20, Train Loss: 0.0144, Val Loss: 0.3128\n",
      "Epoch 14/20, Train Loss: 0.0135, Val Loss: 0.4484\n",
      "Epoch 15/20, Train Loss: 0.0129, Val Loss: 0.6232\n",
      "Epoch 16/20, Train Loss: 0.0123, Val Loss: 0.6091\n",
      "Epoch 17/20, Train Loss: 0.0109, Val Loss: 0.6785\n",
      "Epoch 18/20, Train Loss: 0.0106, Val Loss: 0.3235\n",
      "Epoch 19/20, Train Loss: 0.0100, Val Loss: 0.3760\n",
      "Epoch 20/20, Train Loss: 0.0091, Val Loss: 0.3735\n",
      "Training completed!\n"
     ]
    },
    {
     "data": {
      "image/png": "[encoded data removed]",
      "text/plain": [
       "<Figure size 1000x600 with 1 Axes>"
      ]
     },
     "metadata": {},
     "output_type": "display_data"
    }
   ],
   "source": [
    "# Start training\n",
    "train(model, train_loader, val_loader, criterion, optimizer, epochs=20, device=device, checkpoint_path=checkpoint_path)"
   ]
  },
  {
   "cell_type": "markdown",
   "metadata": {},
   "source": [
    "### Step 14: **Save Final Model**\n",
    "\n",
    "After training is complete, the model's weights are saved to a file (`model.pth`). This allows us to load the model later for inference or further fine-tuning."
   ]
  },
  {
   "cell_type": "code",
   "execution_count": 16,
   "metadata": {
    "execution": {
     "iopub.execute_input": "2025-04-18T15:29:42.409268Z",
     "iopub.status.busy": "2025-04-18T15:29:42.408617Z",
     "iopub.status.idle": "2025-04-18T15:29:42.464013Z",
     "shell.execute_reply": "2025-04-18T15:29:42.463338Z",
     "shell.execute_reply.started": "2025-04-18T15:29:42.409244Z"
    },
    "trusted": true
   },
   "outputs": [],
   "source": [
    "# Save model state\n",
    "torch.save(model.state_dict(), os.path.join(checkpoint_path, \"model.pth\"))"
   ]
  },
  {
   "cell_type": "markdown",
   "metadata": {},
   "source": [
    "### Step 15: **Run Final Evaluation**\n",
    "\n",
    "After training, we evaluate the model on the test dataset. This includes running the `test`, `compute_roc_auc`, and `compute_iou` functions to assess the model’s classification performance and generalization ability. These evaluations provide insight into how well the model can detect fake images in real-world scenarios."
   ]
  },
  {
   "cell_type": "code",
   "execution_count": 17,
   "metadata": {
    "execution": {
     "iopub.execute_input": "2025-04-18T15:29:42.465682Z",
     "iopub.status.busy": "2025-04-18T15:29:42.464909Z",
     "iopub.status.idle": "2025-04-18T15:35:48.703465Z",
     "shell.execute_reply": "2025-04-18T15:35:48.702833Z",
     "shell.execute_reply.started": "2025-04-18T15:29:42.465660Z"
    },
    "trusted": true
   },
   "outputs": [
    {
     "name": "stdout",
     "output_type": "stream",
     "text": [
      "\n",
      "Classification Report:\n",
      "              precision    recall  f1-score   support\n",
      "\n",
      "        Real       0.98      0.97      0.98     19641\n",
      "        Fake       0.97      0.98      0.98     19787\n",
      "\n",
      "    accuracy                           0.98     39428\n",
      "   macro avg       0.98      0.98      0.98     39428\n",
      "weighted avg       0.98      0.98      0.98     39428\n",
      "\n"
     ]
    },
    {
     "data": {
      "image/png": "[encoded data removed]",
      "text/plain": [
       "<Figure size 600x500 with 2 Axes>"
      ]
     },
     "metadata": {},
     "output_type": "display_data"
    }
   ],
   "source": [
    "# Run test  \n",
    "test(model, test_loader)"
   ]
  },
  {
   "cell_type": "code",
   "execution_count": 18,
   "metadata": {
    "execution": {
     "iopub.execute_input": "2025-04-18T15:35:48.704475Z",
     "iopub.status.busy": "2025-04-18T15:35:48.704196Z",
     "iopub.status.idle": "2025-04-18T15:37:57.498421Z",
     "shell.execute_reply": "2025-04-18T15:37:57.497801Z",
     "shell.execute_reply.started": "2025-04-18T15:35:48.704457Z"
    },
    "trusted": true
   },
   "outputs": [
    {
     "name": "stdout",
     "output_type": "stream",
     "text": [
      "ROC AUC Score: 0.9977\n"
     ]
    }
   ],
   "source": [
    "# Compute and print ROC AUC score\n",
    "compute_roc_auc(model, test_loader)"
   ]
  },
  {
   "cell_type": "code",
   "execution_count": 19,
   "metadata": {
    "execution": {
     "iopub.execute_input": "2025-04-18T15:37:57.499297Z",
     "iopub.status.busy": "2025-04-18T15:37:57.499088Z",
     "iopub.status.idle": "2025-04-18T15:39:57.381909Z",
     "shell.execute_reply": "2025-04-18T15:39:57.381247Z",
     "shell.execute_reply.started": "2025-04-18T15:37:57.499279Z"
    },
    "trusted": true
   },
   "outputs": [
    {
     "name": "stdout",
     "output_type": "stream",
     "text": [
      "IoU (Jaccard) Score: 0.9577\n"
     ]
    }
   ],
   "source": [
    "# Compute and print IoU score\n",
    "compute_iou(model, test_loader)"
   ]
  },
  {
   "cell_type": "code",
   "execution_count": 20,
   "metadata": {
    "execution": {
     "iopub.execute_input": "2025-04-18T16:49:15.646936Z",
     "iopub.status.busy": "2025-04-18T16:49:15.646664Z",
     "iopub.status.idle": "2025-04-18T16:49:15.650865Z",
     "shell.execute_reply": "2025-04-18T16:49:15.650275Z",
     "shell.execute_reply.started": "2025-04-18T16:49:15.646916Z"
    },
    "trusted": true
   },
   "outputs": [
    {
     "name": "stdout",
     "output_type": "stream",
     "text": [
      "{'Fake': 0, 'Real': 1}\n"
     ]
    }
   ],
   "source": [
    "# Print class-to-index mapping\n",
    "print(train_dataset.class_to_idx)"
   ]
  }
 ],
 "metadata": {
  "kernelspec": {
   "display_name": "Python 3",
   "language": "python",
   "name": "python3"
  },
  "language_info": {
   "codemirror_mode": {
    "name": "ipython",
    "version": 3
   },
   "file_extension": ".py",
   "mimetype": "text/x-python",
   "name": "python",
   "nbconvert_exporter": "python",
   "pygments_lexer": "ipython3",
   "version": "3.11.11"
  }
 },
 "nbformat": 4,
 "nbformat_minor": 4
}
