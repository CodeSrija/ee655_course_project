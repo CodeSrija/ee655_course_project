{
 "cells": [
  {
   "cell_type": "markdown",
   "id": "9932f906",
   "metadata": {},
   "source": [
    "# Face Detection using Convolutional Neural Networks"
   ]
  },
  {
   "cell_type": "markdown",
   "id": "8bed0ad2",
   "metadata": {},
   "source": [
    "## Project Overview\n",
    "This project aims to build a binary image classifier that detects whether an image contains a human face or not, using a Convolutional Neural Network (CNN) implemented in PyTorch. The system is trained on a labeled dataset of face and non-face images and includes data preprocessing, model training, validation, and evaluation components. The project serves as a foundational computer vision task applicable to surveillance, authentication systems, and real-time detection tools.\n",
    "\n",
    "### Key Steps\n",
    "1. **Data Preprocessing:**\n",
    "    - All input images are resized to **48x48 pixels** and converted to PyTorch tensors.\n",
    "    - **Data augmentation** techniques such as random horizontal flipping and rotation are applied to improve model robustness.\n",
    "    - The dataset is divided into **Training** , **Validation** , and **Testing** sets.\n",
    "2. **Model Architecture:**\n",
    "    - A custom **CNN** is constructed using stacked convolutional layers, **ReLU activations** , and **max pooling** operations.\n",
    "    - A **dropout layer** is added to the fully connected portion of the network to mitigate overfitting.\n",
    "    - The final layer uses a **Sigmoid activation function** for binary classification between face and non-face classes.\n",
    "3. **Training:**\n",
    "    - The model is trained using **Binary Cross-Entropy Loss** , optimized via the **Adam optimizer**.\n",
    "    - Losses are tracked separately for training and validation datasets over 50 epochs.\n",
    "    - **Checkpointing** is used to save the model with the best validation performance.\n",
    "4. **Evaluation Metrics:**\n",
    "    - The final model is evaluated using the **accuracy score** and a **confusion matrix**.\n",
    "    - A **heatmap** is generated to visualize the confusion matrix and interpret class-wise performance.\n",
    "5. **Result Visualization:**\n",
    "    - **Loss curves** are plotted to visualize the learning process over training epochs.\n",
    "    - Predictions on test data are used to assess classification quality and potential model limitations.\n",
    "\n",
    "### Model Summary\n",
    "- A lightweight and effective CNN-based classifier was built to differentiate between face and non-face images.\n",
    "- The model achieved satisfactory performance on unseen data, showcasing its ability to generalize.\n",
    "- Key features such as data augmentation, dropout regularization, and validation monitoring were incorporated to enhance training stability and prevent overfitting.\n",
    "\n",
    "### Future Work\n",
    "- **Model Upgrade** : Integrate more advanced architectures like **ResNet** or **EfficientNet** for improved accuracy.\n",
    "- **Data Scaling** : Train on a larger, more diverse dataset to improve performance in real-world scenarios.\n",
    "- **Augmentation Enhancements** : Apply more varied augmentation techniques for better generalization.\n",
    "- **Real-Time Application** : Deploy the model into a **live camera feed** or web application for practical use.\n",
    "- **Model Explainability** : Implement tools such as **Grad-CAM** to visualize model decision areas on input images."
   ]
  },
  {
   "cell_type": "markdown",
   "id": "d6c3f7c4",
   "metadata": {},
   "source": [
    "### Step 1: Import Required Libraries\n",
    "To begin, we import all the necessary libraries. This includes PyTorch for model development and training, torchvision for data transformations, and PIL for image loading. Additionally, we use Seaborn and Matplotlib for data visualization, and Scikit-learn to compute accuracy and the\n",
    "confusion matrix for evaluation."
   ]
  },
  {
   "cell_type": "code",
   "execution_count": 1,
   "id": "3107628f",
   "metadata": {},
   "outputs": [],
   "source": [
    "import torch\n",
    "import torch.nn as nn\n",
    "import torch.optim as optim\n",
    "from torchvision import transforms\n",
    "from torch.utils.data import DataLoader\n",
    "from PIL import Image\n",
    "import os\n",
    "import seaborn as sns\n",
    "from sklearn.metrics import accuracy_score, confusion_matrix\n",
    "import matplotlib.pyplot as plt"
   ]
  },
  {
   "cell_type": "markdown",
   "id": "917d8a60",
   "metadata": {},
   "source": [
    "### Step 2: Define Hyperparameters and Device\n",
    "Here, we define key hyperparameters for our training process, including the image size, batch size, number of epochs, and learning rate. We also configure the device, using a GPU if available to accelerate training; otherwise, the model will run on the CPU."
   ]
  },
  {
   "cell_type": "code",
   "execution_count": 2,
   "id": "32ca3bb3",
   "metadata": {},
   "outputs": [],
   "source": [
    "# Hyperparameters\n",
    "IMG_SIZE = 48\n",
    "BATCH_SIZE = 32\n",
    "EPOCHS = 50\n",
    "LR = 0.001"
   ]
  },
  {
   "cell_type": "code",
   "execution_count": 3,
   "id": "b8844d20",
   "metadata": {},
   "outputs": [],
   "source": [
    "# Select GPU if available\n",
    "device = torch.device('cuda' if torch.cuda.is_available() else 'cpu')"
   ]
  },
  {
   "cell_type": "markdown",
   "id": "21ca85ed",
   "metadata": {},
   "source": [
    "### Step 3: Define Image Transformations\n",
    "In this step, we define the transformations to apply to each image in the dataset. Images are resized to 48x48 pixels, and random horizontal flips and rotations are used to augment the dataset, improving model generalization. Finally, the images are converted into tensors, making them\n",
    "compatible with PyTorch models."
   ]
  },
  {
   "cell_type": "code",
   "execution_count": 4,
   "id": "fed8f8bf",
   "metadata": {},
   "outputs": [],
   "source": [
    "# Transformations for data\n",
    "transform = transforms.Compose([\n",
    "    transforms.Resize((IMG_SIZE, IMG_SIZE)),\n",
    "    transforms.RandomHorizontalFlip(),\n",
    "    transforms.RandomRotation(15),\n",
    "    transforms.ToTensor()\n",
    "])"
   ]
  },
  {
   "cell_type": "markdown",
   "id": "e3c54a28",
   "metadata": {},
   "source": [
    "### Step 4: Create Custom Dataset Loader\n",
    "In this step, a custom dataset loader is created to handle face and non-face images. The dataset loader takes the directories of face and non-face images as input, assigns labels (1 for faces, 0 for non-faces), and applies the previously defined transformations. This loader ensures that each image is returned along with its corresponding label during training or evaluation."
   ]
  },
  {
   "cell_type": "code",
   "execution_count": 5,
   "id": "dadfa576",
   "metadata": {},
   "outputs": [],
   "source": [
    "# Dataset loader\n",
    "class FaceDataset(torch.utils.data.Dataset):\n",
    "    def __init__(self, face_dir, non_face_dir, transform=None):\n",
    "        self.images = []\n",
    "        self.labels = []\n",
    "        self.transform = transform\n",
    "\n",
    "        for img in os.listdir(face_dir):\n",
    "            self.images.append((os.path.join(face_dir, img), 1))  # Label 1 for faces\n",
    "        for img in os.listdir(non_face_dir):\n",
    "            self.images.append((os.path.join(non_face_dir, img), 0))  # Label 0 for non-faces\n",
    "\n",
    "    def __len__(self):\n",
    "        return len(self.images)\n",
    "\n",
    "    def __getitem__(self, idx):\n",
    "        path, label = self.images[idx]\n",
    "        image = Image.open(path).convert('RGB')\n",
    "        if self.transform:\n",
    "            image = self.transform(image)\n",
    "        return image, torch.tensor(label, dtype=torch.float32)"
   ]
  },
  {
   "cell_type": "markdown",
   "id": "16e33959",
   "metadata": {},
   "source": [
    "### Step 5: Define CNN Model\n",
    "This step involves designing the CNN model architecture. The model consists of two convolutional layers followed by max pooling, which helps reduce the image dimensions. The output is then flattened and passed through fully connected layers. A dropout layer is included for regularization, and the final layer uses a Sigmoid activation function to predict probabilities for binary classification (face or non-face)."
   ]
  },
  {
   "cell_type": "code",
   "execution_count": 6,
   "id": "082b9742",
   "metadata": {},
   "outputs": [],
   "source": [
    "# CNN model for face detection\n",
    "class FaceDetectorCNN(nn.Module):\n",
    "    def __init__(self):\n",
    "        super().__init__()\n",
    "        self.features = nn.Sequential(\n",
    "            nn.Conv2d(3, 32, 3, padding=1), nn.ReLU(),\n",
    "            nn.Conv2d(32, 32, 3, padding=1), nn.ReLU(),\n",
    "            nn.MaxPool2d(2),\n",
    "            nn.Conv2d(32, 64, 3, padding=1), nn.ReLU(),\n",
    "            nn.Conv2d(64, 64, 3, padding=1), nn.ReLU(),\n",
    "            nn.MaxPool2d(2)\n",
    "        )\n",
    "\n",
    "        self.classifier = nn.Sequential(\n",
    "            nn.Flatten(),\n",
    "            nn.Linear(64 * 12 * 12, 128), nn.ReLU(),\n",
    "            nn.Dropout(0.5),\n",
    "            nn.Linear(128, 1), nn.Sigmoid()\n",
    "        )\n",
    "\n",
    "\n",
    "    def forward(self, x):\n",
    "        x = self.features(x)\n",
    "        return self.classifier(x)"
   ]
  },
  {
   "cell_type": "markdown",
   "id": "0f02eba1",
   "metadata": {},
   "source": [
    "### Step 6: Load Training, Validation, and Test Data\n",
    "The datasets for training, validation, and testing are loaded using the custom dataset loader. This step involves preparing the data for training, validation, and testing, making use of the DataLoader class to batch the data and shuffle it during training. This ensures that the model is trained efficiently and generalizes well to unseen data."
   ]
  },
  {
   "cell_type": "code",
   "execution_count": 7,
   "id": "fa006333",
   "metadata": {},
   "outputs": [],
   "source": [
    "# Load datasets\n",
    "train_faces_dir = 'train/faces'\n",
    "train_non_faces_dir = 'train/non-faces'\n",
    "test_faces_dir = 'test/faces'\n",
    "test_non_faces_dir = 'test/non-faces'\n",
    "val_faces_dir = 'val/faces'\n",
    "val_non_faces_dir = 'val/non-faces'\n",
    "\n",
    "train_dataset = FaceDataset(train_faces_dir, train_non_faces_dir, transform)\n",
    "test_dataset = FaceDataset(test_faces_dir, test_non_faces_dir, transform)\n",
    "val_dataset = FaceDataset(val_faces_dir, val_non_faces_dir, transform)\n",
    "\n",
    "train_loader = DataLoader(train_dataset, batch_size=BATCH_SIZE, shuffle=True)\n",
    "test_loader = DataLoader(test_dataset, batch_size=BATCH_SIZE)\n",
    "val_loader = DataLoader(val_dataset, batch_size=BATCH_SIZE)"
   ]
  },
  {
   "cell_type": "markdown",
   "id": "29d482ab",
   "metadata": {},
   "source": [
    "### Step 7: Define Training Loop\n",
    "The training loop is defined in this step. During each epoch, the model is trained on the training data and evaluated on the validation data. The model’s performance is monitored by tracking the loss for both training and validation. The best-performing model, based on validation loss, is saved during training to prevent overfitting."
   ]
  },
  {
   "cell_type": "code",
   "execution_count": 8,
   "id": "3ec6b5f3",
   "metadata": {},
   "outputs": [],
   "source": [
    "# Training Loop\n",
    "def train_model(model, train_loader, val_loader, epochs, lr, save_path='best_model.pth'):\n",
    "    model.to(device)\n",
    "    optimizer = optim.Adam(model.parameters(), lr=lr)\n",
    "    criterion = nn.BCELoss()\n",
    "\n",
    "    train_losses = []\n",
    "    val_losses = []\n",
    "    best_val_loss = float('inf')  # Initialize to a high value\n",
    "\n",
    "    for epoch in range(epochs):\n",
    "        model.train()\n",
    "        epoch_train_loss = 0\n",
    "\n",
    "        for images, labels in train_loader:\n",
    "            images = images.to(device)\n",
    "            labels = labels.to(device).unsqueeze(1).float()  # Ensure float labels\n",
    "\n",
    "            outputs = model(images)\n",
    "            loss = criterion(outputs, labels)\n",
    "\n",
    "            optimizer.zero_grad()\n",
    "            loss.backward()\n",
    "            optimizer.step()\n",
    "            epoch_train_loss += loss.item()\n",
    "\n",
    "        avg_train_loss = epoch_train_loss / len(train_loader)\n",
    "        train_losses.append(avg_train_loss)\n",
    "\n",
    "        # ---- Validation ----\n",
    "        model.eval()\n",
    "        epoch_val_loss = 0\n",
    "\n",
    "        with torch.no_grad():\n",
    "            for val_images, val_labels in val_loader:\n",
    "                val_images = val_images.to(device)\n",
    "                val_labels = val_labels.to(device).unsqueeze(1).float()\n",
    "\n",
    "                val_outputs = model(val_images)\n",
    "                val_loss = criterion(val_outputs, val_labels)\n",
    "                epoch_val_loss += val_loss.item()\n",
    "\n",
    "        avg_val_loss = epoch_val_loss / len(val_loader)\n",
    "        val_losses.append(avg_val_loss)\n",
    "\n",
    "        # ---- Checkpointing ----\n",
    "        if avg_val_loss < best_val_loss:\n",
    "            best_val_loss = avg_val_loss\n",
    "            torch.save(model.state_dict(), save_path)\n",
    "            print(f\"✔️ Saved new best model (val loss: {avg_val_loss:.4f})\")\n",
    "\n",
    "        print(f\"Epoch {epoch+1}/{epochs} | Train Loss: {avg_train_loss:.4f} | Val Loss: {avg_val_loss:.4f}\")\n",
    "\n",
    "    return train_losses, val_losses"
   ]
  },
  {
   "cell_type": "markdown",
   "id": "32d886fa",
   "metadata": {},
   "source": [
    "### Step 8: Define Evaluation Function\n",
    "The evaluation function is used to assess the model’s performance on the test dataset after training. The model’s predictions are compared with the true labels, and metrics such as accuracy and confusion matrix are calculated. This function also visualizes the confusion matrix to provide insight into how well the model is distinguishing between faces and non-faces."
   ]
  },
  {
   "cell_type": "code",
   "execution_count": 9,
   "id": "e63eebf7",
   "metadata": {},
   "outputs": [],
   "source": [
    "# Evaluation function\n",
    "def evaluate_model(model, test_loader):\n",
    "    model.eval()\n",
    "    all_preds, all_labels = [], []\n",
    "\n",
    "    with torch.no_grad():\n",
    "        for images, labels in test_loader:\n",
    "            images = images.to(device)\n",
    "            outputs = model(images).cpu().numpy()\n",
    "            preds = (outputs > 0.5).astype(int).flatten()\n",
    "            all_preds.extend(preds)\n",
    "            all_labels.extend(labels.numpy())\n",
    "\n",
    "    acc = accuracy_score(all_labels, all_preds)\n",
    "    cm = confusion_matrix(all_labels, all_preds)\n",
    "\n",
    "    print(f\"\\n✅ Test Accuracy: {acc:.4f}\")\n",
    "    print(\"Confusion Matrix:\")\n",
    "    print(cm)\n",
    "\n",
    "    plt.figure(figsize=(5, 4))\n",
    "    sns.heatmap(cm, annot=True, fmt=\"d\", cmap=\"Blues\", xticklabels=[\"Non-Face\", \"Face\"], yticklabels=[\"Non-Face\", \"Face\"])\n",
    "    plt.xlabel(\"Predicted\")\n",
    "    plt.ylabel(\"Actual\")\n",
    "    plt.title(f\"Confusion Matrix (Accuracy: {acc:.2%})\")\n",
    "    plt.tight_layout()\n",
    "    plt.show()\n",
    "\n",
    "    return acc, cm"
   ]
  },
  {
   "cell_type": "markdown",
   "id": "a96e300a",
   "metadata": {},
   "source": [
    "### Step 9: Train the Model and Save\n",
    "In this step, the CNN model is instantiated and trained using the previously defined training loop. The best-performing model, based on validation loss, is saved to a file. The trained model can later be loaded for inference or further fine-tuning."
   ]
  },
  {
   "cell_type": "code",
   "execution_count": 10,
   "id": "ae0950fe",
   "metadata": {},
   "outputs": [
    {
     "name": "stderr",
     "output_type": "stream",
     "text": [
      "c:\\Users\\durus\\miniconda3\\envs\\ee655\\lib\\site-packages\\PIL\\Image.py:1045: UserWarning: Palette images with Transparency expressed in bytes should be converted to RGBA images\n",
      "  warnings.warn(\n"
     ]
    },
    {
     "name": "stdout",
     "output_type": "stream",
     "text": [
      "✔️ Saved new best model (val loss: 0.5146)\n",
      "Epoch 1/50 | Train Loss: 0.3707 | Val Loss: 0.5146\n",
      "✔️ Saved new best model (val loss: 0.4589)\n",
      "Epoch 2/50 | Train Loss: 0.2122 | Val Loss: 0.4589\n",
      "Epoch 3/50 | Train Loss: 0.1769 | Val Loss: 0.7556\n",
      "Epoch 4/50 | Train Loss: 0.1608 | Val Loss: 0.5973\n",
      "Epoch 5/50 | Train Loss: 0.1410 | Val Loss: 0.5170\n",
      "Epoch 6/50 | Train Loss: 0.1315 | Val Loss: 0.4999\n",
      "Epoch 7/50 | Train Loss: 0.1223 | Val Loss: 0.5717\n",
      "Epoch 8/50 | Train Loss: 0.1021 | Val Loss: 0.6974\n",
      "✔️ Saved new best model (val loss: 0.4354)\n",
      "Epoch 9/50 | Train Loss: 0.1067 | Val Loss: 0.4354\n",
      "Epoch 10/50 | Train Loss: 0.0984 | Val Loss: 0.4620\n",
      "Epoch 11/50 | Train Loss: 0.0917 | Val Loss: 0.4449\n",
      "Epoch 12/50 | Train Loss: 0.0931 | Val Loss: 0.4417\n",
      "Epoch 13/50 | Train Loss: 0.0815 | Val Loss: 0.4946\n",
      "Epoch 14/50 | Train Loss: 0.0799 | Val Loss: 0.5119\n",
      "Epoch 15/50 | Train Loss: 0.0749 | Val Loss: 0.5626\n",
      "Epoch 16/50 | Train Loss: 0.0723 | Val Loss: 0.6020\n",
      "Epoch 17/50 | Train Loss: 0.0770 | Val Loss: 0.6414\n",
      "Epoch 18/50 | Train Loss: 0.0677 | Val Loss: 0.4643\n",
      "✔️ Saved new best model (val loss: 0.4157)\n",
      "Epoch 19/50 | Train Loss: 0.0658 | Val Loss: 0.4157\n",
      "Epoch 20/50 | Train Loss: 0.0588 | Val Loss: 0.5449\n",
      "Epoch 21/50 | Train Loss: 0.0619 | Val Loss: 0.5194\n",
      "✔️ Saved new best model (val loss: 0.4154)\n",
      "Epoch 22/50 | Train Loss: 0.0571 | Val Loss: 0.4154\n",
      "Epoch 23/50 | Train Loss: 0.0567 | Val Loss: 0.5631\n",
      "Epoch 24/50 | Train Loss: 0.0533 | Val Loss: 0.5669\n",
      "Epoch 25/50 | Train Loss: 0.0524 | Val Loss: 0.4198\n",
      "Epoch 26/50 | Train Loss: 0.0475 | Val Loss: 0.5384\n",
      "Epoch 27/50 | Train Loss: 0.0478 | Val Loss: 0.4765\n",
      "Epoch 28/50 | Train Loss: 0.0500 | Val Loss: 0.4326\n",
      "Epoch 29/50 | Train Loss: 0.0453 | Val Loss: 0.7698\n",
      "Epoch 30/50 | Train Loss: 0.0393 | Val Loss: 0.5437\n",
      "Epoch 31/50 | Train Loss: 0.0503 | Val Loss: 0.6100\n",
      "Epoch 32/50 | Train Loss: 0.0404 | Val Loss: 0.5976\n",
      "Epoch 33/50 | Train Loss: 0.0418 | Val Loss: 0.9329\n",
      "Epoch 34/50 | Train Loss: 0.0431 | Val Loss: 0.4562\n",
      "Epoch 35/50 | Train Loss: 0.0444 | Val Loss: 0.9414\n",
      "Epoch 36/50 | Train Loss: 0.0429 | Val Loss: 0.6282\n",
      "Epoch 37/50 | Train Loss: 0.0414 | Val Loss: 0.5632\n",
      "Epoch 38/50 | Train Loss: 0.0457 | Val Loss: 0.8891\n",
      "Epoch 39/50 | Train Loss: 0.0307 | Val Loss: 1.0157\n",
      "Epoch 40/50 | Train Loss: 0.0389 | Val Loss: 0.6081\n",
      "Epoch 41/50 | Train Loss: 0.0328 | Val Loss: 0.5214\n",
      "Epoch 42/50 | Train Loss: 0.0364 | Val Loss: 0.5656\n",
      "Epoch 43/50 | Train Loss: 0.0393 | Val Loss: 0.5966\n",
      "Epoch 44/50 | Train Loss: 0.0357 | Val Loss: 0.7313\n",
      "Epoch 45/50 | Train Loss: 0.0368 | Val Loss: 0.7238\n",
      "Epoch 46/50 | Train Loss: 0.0369 | Val Loss: 0.9565\n",
      "Epoch 47/50 | Train Loss: 0.0298 | Val Loss: 0.7935\n",
      "Epoch 48/50 | Train Loss: 0.0279 | Val Loss: 0.8123\n",
      "Epoch 49/50 | Train Loss: 0.0375 | Val Loss: 0.8397\n",
      "Epoch 50/50 | Train Loss: 0.0284 | Val Loss: 1.0175\n"
     ]
    }
   ],
   "source": [
    "# Run training\n",
    "model = FaceDetectorCNN()\n",
    "train_losses, val_losses = train_model(\n",
    "    model,\n",
    "    train_loader,  # Training data loader\n",
    "    val_loader,    # Validation data loader\n",
    "    epochs=EPOCHS,  # Number of epochs\n",
    "    lr=LR,          # Learning rate\n",
    "    save_path='best_model.pth'  # Path to save the best model\n",
    ")"
   ]
  },
  {
   "cell_type": "code",
   "execution_count": 11,
   "id": "38d19931",
   "metadata": {},
   "outputs": [],
   "source": [
    "# Save model\n",
    "torch.save(model.state_dict(), 'face_detector_trained3.pth')"
   ]
  },
  {
   "cell_type": "markdown",
   "id": "8ee1464e",
   "metadata": {},
   "source": [
    "### Step 10: Evaluate the Model\n",
    "After training, the model is evaluated on the test dataset to assess how well it generalizes to unseen data. This is done by computing the accuracy and displaying the confusion matrix, which provides a deeper understanding of the model’s performance."
   ]
  },
  {
   "cell_type": "code",
   "execution_count": 12,
   "id": "4b1a67a4",
   "metadata": {},
   "outputs": [
    {
     "name": "stdout",
     "output_type": "stream",
     "text": [
      "\n",
      "✅ Test Accuracy: 0.9008\n",
      "Confusion Matrix:\n",
      "[[1263  241]\n",
      " [  69 1553]]\n"
     ]
    },
    {
     "data": {
      "image/png": "[encoded data removed]",
      "text/plain": [
       "<Figure size 500x400 with 2 Axes>"
      ]
     },
     "metadata": {},
     "output_type": "display_data"
    },
    {
     "data": {
      "text/plain": [
       "(0.9008317338451696,\n",
       " array([[1263,  241],\n",
       "        [  69, 1553]], dtype=int64))"
      ]
     },
     "execution_count": 13,
     "metadata": {},
     "output_type": "execute_result"
    }
   ],
   "source": [
    "# Run evaluation\n",
    "evaluate_model(model, test_loader)"
   ]
  },
  {
   "cell_type": "markdown",
   "id": "9278a849",
   "metadata": {},
   "source": [
    "### Step 11: Plot Loss Curves\n",
    "The loss curves for training and validation are plotted to visualize the model’s learning process over the epochs. This helps to identify potential issues such as overfitting or underfitting. By comparing the training and validation loss curves, we can gain insights into the stability of the training process."
   ]
  },
  {
   "cell_type": "code",
   "execution_count": 13,
   "id": "6efec344",
   "metadata": {},
   "outputs": [
    {
     "data": {
      "image/png": "[encoded data removed]",
      "text/plain": [
       "<Figure size 640x480 with 1 Axes>"
      ]
     },
     "metadata": {},
     "output_type": "display_data"
    }
   ],
   "source": [
    "# Plot losses\n",
    "plt.plot(train_losses, label='Train Loss')\n",
    "plt.xlabel(\"Epoch\")\n",
    "plt.ylabel(\"Loss\")\n",
    "plt.legend()\n",
    "plt.title(\"Training Loss\")\n",
    "plt.show()"
   ]
  },
  {
   "cell_type": "markdown",
   "id": "66054906",
   "metadata": {},
   "source": [
    "### Conclusion\n",
    "In this project, we successfully built a CNN model from scratch using PyTorch for face detection. We utilized a custom dataset loader, applied data augmentation to improve generalization, and evaluated the model using metrics such as accuracy and confusion matrix. The results were visualized through loss curves and the confusion matrix, providing a comprehensive view of the model’s performance."
   ]
  }
 ],
 "metadata": {
  "kernelspec": {
   "display_name": "Python 3 (ipykernel)",
   "language": "python",
   "name": "python3"
  },
  "language_info": {
   "codemirror_mode": {
    "name": "ipython",
    "version": 3
   },
   "file_extension": ".py",
   "mimetype": "text/x-python",
   "name": "python",
   "nbconvert_exporter": "python",
   "pygments_lexer": "ipython3",
   "version": "3.13.2"
  }
 },
 "nbformat": 4,
 "nbformat_minor": 5
}
